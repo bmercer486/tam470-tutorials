{
  "cells": [
    {
      "cell_type": "markdown",
      "id": "engaging-figure",
      "metadata": {
        "id": "engaging-figure"
      },
      "source": [
        "# Newton-Raphson implementation for a scalar equation\n",
        "\n",
        "Newton's method for a scalar equation is, starting from an initial solution guess $x_0$:\n",
        "\n",
        "\\begin{equation}\n",
        "x_{n+1} = x_{n} - \\frac{f(x_n)}{f'(x_n)}\n",
        "\\end{equation}\n",
        "\n",
        "## Code example\n",
        "Below is an example of using the Newton-Raphson method to solve $x^2 - 4 = 0$.\n",
        "\n",
        "Think about the following:\n",
        "* What is the purpose of the <code>maxiter</code> parameter?\n",
        "* What convergence criteria is this code using to terminate iterations?\n",
        "\n",
        "Try 'playing' with some of the following settings. How do they affect code performance or final solution?\n",
        "* Starting guess: are there any guesses that don't work well, or at all?\n",
        "* <code>tol</code> parameter\n"
      ]
    },
    {
      "cell_type": "code",
      "execution_count": null,
      "id": "abroad-chick",
      "metadata": {
        "id": "abroad-chick"
      },
      "outputs": [],
      "source": [
        "import numpy as np\n",
        "import matplotlib.pyplot as plt\n",
        "\n",
        "# Function\n",
        "f = lambda x: x**2 - 4\n",
        "\n",
        "# Jacobian (derivative)\n",
        "df = lambda x: 2*x\n",
        "\n",
        "# Newton-Raphson setup\n",
        "xguess = 4\n",
        "converged = False\n",
        "tol = 1e-12\n",
        "maxiter = 10\n",
        "iter = 0\n",
        "\n",
        "# Plot the function and the initial guess\n",
        "xplot = np.linspace(-8, 8, 100)\n",
        "plt.figure()\n",
        "plt.plot(xplot, f(xplot), label='f(x)')\n",
        "plt.plot(xguess,f(xguess), 'ro', markersize=8, label='Initial guess')\n",
        "plt.grid()\n",
        "plt.xlabel('x')\n",
        "plt.ylabel('f(x)')\n",
        "plt.legend()\n",
        "\n",
        "# Newton-Raphson Loop\n",
        "print(f\"Starting guess: x = {xguess:f}\")\n",
        "while(not converged):\n",
        "    dx = -f(xguess)/df(xguess)\n",
        "    xnew = xguess + dx\n",
        "    iter += 1\n",
        "    print(f\"iter: {iter:2.0f}  xnew = {xnew:14.12f}  |dx| =  {abs(dx):14.12f}    |f(xnew)| = {abs(f(xnew)):14.12f}\")\n",
        "    # Solution has converged\n",
        "    if(abs(f(xnew)) <= tol):\n",
        "        converged = True\n",
        "        print('|f(xnew)| <= tol: Convergence achieved')\n",
        "        print(f'Solution: x = {xnew:14.12f}')\n",
        "    # Max number of iterations reached: stop the loop\n",
        "    elif(iter == maxiter):\n",
        "        print(\"Warning: no convergence\")\n",
        "        break\n",
        "    # No convergence yet; update the guess for the next iteration\n",
        "    else:\n",
        "        xguess = xnew"
      ]
    },
    {
      "cell_type": "markdown",
      "source": [
        "## Try this\n",
        "\n",
        "Update the code to solve $f(x) = \\sin(x) - 1 = 0$. Copy-paste code from the cell above into the cell below as a starting point.\n",
        "\n",
        "The exact solution is $x = \\frac{\\pi}{2}\\pm 2\\pi n$ for $n = 0, 1, 2, ...$.\n",
        "\n",
        "* What should you consider when choosing the initial guess $x_0$? What initial guesses will cause problems for the algorithm?\n",
        "* Newton's method converges more slowly (linear vs quadratic convergence rate) when the root $x^*$ also satisfies $f'(x^*) = 0$. How does convergence for this equation compare to solving $x^2 - 4 = 0$?"
      ],
      "metadata": {
        "id": "xYhmKz_arh-Q"
      },
      "id": "xYhmKz_arh-Q"
    },
    {
      "cell_type": "code",
      "source": [
        "## Try out the task above here"
      ],
      "metadata": {
        "id": "WSF88IM3rlGy"
      },
      "id": "WSF88IM3rlGy",
      "execution_count": null,
      "outputs": []
    }
  ],
  "metadata": {
    "kernelspec": {
      "display_name": "Python 3 (ipykernel)",
      "language": "python",
      "name": "python3"
    },
    "language_info": {
      "codemirror_mode": {
        "name": "ipython",
        "version": 3
      },
      "file_extension": ".py",
      "mimetype": "text/x-python",
      "name": "python",
      "nbconvert_exporter": "python",
      "pygments_lexer": "ipython3",
      "version": "3.11.4"
    },
    "colab": {
      "provenance": []
    }
  },
  "nbformat": 4,
  "nbformat_minor": 5
}