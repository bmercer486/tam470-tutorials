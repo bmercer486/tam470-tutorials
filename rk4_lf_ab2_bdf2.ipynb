{
  "cells": [
    {
      "cell_type": "markdown",
      "metadata": {
        "id": "view-in-github",
        "colab_type": "text"
      },
      "source": [
        "<a href=\"https://colab.research.google.com/github/bmercer486/tam470-tutorials/blob/main/rk4_lf_ab2_bdf2.ipynb\" target=\"_parent\"><img src=\"https://colab.research.google.com/assets/colab-badge.svg\" alt=\"Open In Colab\"/></a>"
      ]
    },
    {
      "cell_type": "markdown",
      "id": "informational-trust",
      "metadata": {
        "id": "informational-trust"
      },
      "source": [
        "# Linear pendulum simulation\n",
        "\n",
        "## The ODE\n",
        "\n",
        "When a pendulum has small-amplitude swings, the ODE for its motion is\n",
        "$\\theta''(t) = -\\omega^2\\theta(t)$,\n",
        "\n",
        "Since it's a 2nd order ODE, we'll transform this into a system of two first order ODEs as follows\n",
        "\n",
        "$$y_1 = \\theta(t), \\quad y_2 = \\theta'(t)$$\n",
        "\n",
        "$$\\rightarrow \\mathbf{y} = \\left[\\array{y_1 \\\\ y_2}\\right] = \\left[\\array{\\theta \\\\ \\theta'}\\right]$$\n",
        "\n",
        "Then\n",
        "\n",
        "$$\\mathbf{y}' = \\left[\\array{0 & 1 \\\\ -\\omega^2 & 0}\\right]\\left[\\array{y_1 \\\\ y_2}\\right]$$\n",
        "\n",
        "The eigenvalues for this system correspond to the natural frequency of the pendulum, $\\lambda_{1,2} = \\pm i\\omega$.\n",
        "\n",
        "## Numerical solution\n",
        "\n",
        "The code below solves this problem using RK4, AB2, Leapfrog and BDF2 schemes\n",
        "\n",
        "The multistep schemes require a startup time step. Since RK4 is self-starting and is computed first anyways, each scheme uses the RK4 result to advance the first step before switching to its own multistep update rule."
      ]
    },
    {
      "cell_type": "code",
      "execution_count": null,
      "id": "abroad-chick",
      "metadata": {
        "id": "abroad-chick"
      },
      "outputs": [],
      "source": [
        "# Import libraries\n",
        "import numpy as np\n",
        "import matplotlib.pyplot as plt\n",
        "\n",
        "# Constants\n",
        "w = 4 # Frequency parameter\n",
        "\n",
        "# f(y) for the pendulum system\n",
        "A = np.array([[0, 1],[-w**2, 0]])\n",
        "f = lambda y: A@y\n",
        "\n",
        "# Initial conditions and time step setup\n",
        "y0 = np.array([1, 0])\n",
        "h = .1\n",
        "T = 6\n",
        "N = round(T/h)\n",
        "t = np.linspace(0, T, N+1)\n",
        "\n",
        "# Set up solution vectors for each of the methods\n",
        "yrk4  = np.zeros((2,N+1))\n",
        "ylf   = np.zeros((2,N+1))\n",
        "yab2  = np.zeros((2,N+1))\n",
        "ybdf2 = np.zeros((2,N+1))\n",
        "\n",
        "# Set initial conditions\n",
        "yrk4[:,0]  = y0\n",
        "ylf[:,0]   = y0\n",
        "yab2[:,0]  = y0\n",
        "ybdf2[:,0] = y0\n",
        "\n",
        "# Time step loop - takes N steps\n",
        "for n in range(N):\n",
        "\n",
        "    # RK4 update\n",
        "    k1 = f(yrk4[:,n])\n",
        "    k2 = f(yrk4[:,n] + 0.5*h*k1)\n",
        "    k3 = f(yrk4[:,n] + 0.5*h*k2)\n",
        "    k4 = f(yrk4[:,n] + h*k3)\n",
        "    yrk4[:,n+1] = yrk4[:,n] + h*(k1/6 + k2/3 + k3/3 + k4/6)\n",
        "\n",
        "    # Multistep schemes: Each requires a different method to start up\n",
        "    if(n==0):\n",
        "\n",
        "        # Use the RK4 result since we have it already\n",
        "        ylf[:,n+1]   = yrk4[:,n+1]\n",
        "        yab2[:,n+1]  = yrk4[:,n+1]\n",
        "        ybdf2[:,n+1] = yrk4[:,n+1]\n",
        "\n",
        "    # Use the appropriate scheme for the 2nd step onwards\n",
        "    else:\n",
        "        # Leapfrog update\n",
        "        ylf[:,n+1] = ylf[:,n-1] + 2*h*f(ylf[:,n])\n",
        "        # AB2 update\n",
        "        yab2[:,n+1] = yab2[:,n] + 1.5*h*f(yab2[:,n]) - 0.5*h*f(yab2[:,n-1])\n",
        "        # BDF2 update\n",
        "        ybdf2[:,n+1] = np.linalg.solve(np.eye(2) - (2/3)*h*A, (4/3)*ybdf2[:,n] - (1/3)*ybdf2[:,n-1])\n",
        "\n",
        "\n",
        "# Print time step used and critical time step for stability for the explicit schemes\n",
        "print('h                   = ', h)\n",
        "print('h_critical RK4      = ', 2.83/w)\n",
        "print('h_critical Leapfrog = ', 1/w)\n",
        "print('h_critical AB2      = ', 0)\n"
      ]
    },
    {
      "cell_type": "markdown",
      "id": "interstate-knight",
      "metadata": {
        "id": "interstate-knight"
      },
      "source": [
        "## Plotting\n",
        "\n",
        "We examine plots of each method versus the true solution.\n",
        "\n",
        "Try running the code for different time steps and think about the following questions:\n",
        "1. Which schemes are stable? Conditionally stable? Unstable?\n",
        "2. What differences do you see in amplitude (peak height) and phase shift (peak position) for each scheme?"
      ]
    },
    {
      "cell_type": "code",
      "execution_count": null,
      "id": "primary-helmet",
      "metadata": {
        "id": "primary-helmet"
      },
      "outputs": [],
      "source": [
        "# True solution\n",
        "tfine = np.linspace(0, T, 100)\n",
        "theta_true = y0[0]*np.cos(tfine*w)\n",
        "\n",
        "# Set up two side-by-side plots\n",
        "fig, axs = plt.subplots(1, 2, figsize=(12, 5), sharey=True)\n",
        "\n",
        "# Left: RK4 vs Leapfrog\n",
        "axs[0].plot(t, yrk4[0, :], '*-', label='RK4')\n",
        "axs[0].plot(t, ylf[0, :], label='Leapfrog')\n",
        "axs[0].plot(tfine, theta_true, 'k--', label='Exact')\n",
        "axs[0].grid()\n",
        "axs[0].set_xlabel('t')\n",
        "axs[0].set_ylabel(r'$\\theta(t)$')\n",
        "axs[0].set_title(r'$\\theta(t)$ for h = ' + str(h))\n",
        "axs[0].set_ylim(-2, 2)\n",
        "axs[0].legend()\n",
        "\n",
        "# Right: AB2 vs BDF2\n",
        "axs[1].plot(t, yab2[0, :], label='AB2')\n",
        "axs[1].plot(t, ybdf2[0, :], label='BDF2')\n",
        "axs[1].plot(tfine, theta_true, 'k--', label='Exact')\n",
        "axs[1].grid()\n",
        "axs[1].set_xlabel('t')\n",
        "axs[1].set_title(r'$\\theta(t)$ for h = ' + str(h))\n",
        "axs[0].set_ylim(-2, 2)\n",
        "axs[1].legend()\n",
        "\n",
        "plt.tight_layout()"
      ]
    }
  ],
  "metadata": {
    "kernelspec": {
      "display_name": "Python 3 (ipykernel)",
      "language": "python",
      "name": "python3"
    },
    "language_info": {
      "codemirror_mode": {
        "name": "ipython",
        "version": 3
      },
      "file_extension": ".py",
      "mimetype": "text/x-python",
      "name": "python",
      "nbconvert_exporter": "python",
      "pygments_lexer": "ipython3",
      "version": "3.11.4"
    },
    "colab": {
      "provenance": [],
      "include_colab_link": true
    }
  },
  "nbformat": 4,
  "nbformat_minor": 5
}