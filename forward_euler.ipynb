{
 "cells": [
  {
   "cell_type": "markdown",
   "id": "informational-trust",
   "metadata": {},
   "source": [
    "# Example 1: Scalar equation\n",
    "\n",
    "## The ODE\n",
    "\n",
    "Let's solve:\n",
    "\n",
    "$y'(t) = \\cos(t^2)\\sqrt{y}$ for $t \\in [0, 10]$,\n",
    "\n",
    "with initial condition $y_0 = y(0) = 1$.\n",
    "\n",
    "In this case, we have $f(y,t) = \\cos(t^2)\\sqrt{y}$"
   ]
  },
  {
   "cell_type": "code",
   "execution_count": null,
   "id": "minute-soviet",
   "metadata": {},
   "outputs": [],
   "source": [
    "# Import libraries\n",
    "import numpy as np\n",
    "import matplotlib.pyplot as plt\n",
    "\n",
    "# f(y,t)\n",
    "f = lambda y, t: np.cos(t**2)*np.sqrt(y)\n",
    "\n",
    "# Test it out: f(4, 0) = 2\n",
    "print(f(4, 0))"
   ]
  },
  {
   "cell_type": "markdown",
   "id": "false-distance",
   "metadata": {},
   "source": [
    "## Time step setup\n",
    "\n",
    "We use the following definitions\n",
    "* $N$ is the number of time steps for the algorithm to take\n",
    "* $T$ is the end time of the simulation, in this case, $T = 10$\n",
    "* $h$ is the time step size\n",
    "* The relationship $T = Nh$ always holds as long as time step remains constant throughout the simulation\n",
    "\n",
    "We must choose two of the three values for $T$, $N$, and $h$; the third is set by the relation $T = Nh$. \n",
    "\n",
    "Below are two options for setting up the time discretization. Option 1 chooses number of time steps and sets $h$ accordingly. Option two choose the time step size and sets $N$ accordingly. Both options assume an end time of $T = 10$."
   ]
  },
  {
   "cell_type": "code",
   "execution_count": null,
   "id": "oriented-failure",
   "metadata": {},
   "outputs": [],
   "source": [
    "# Time step setup: define number of steps to take (option 1)\n",
    "T = 10      # End time\n",
    "N = 1000    # Number of steps to take\n",
    "h = T/N     # Time step size\n",
    "t = np.linspace(0, T, N+1)\n",
    "print('h = T/N = ', h)\n",
    "print('t = ', t)\n",
    "\n",
    "# Time step setup: define time step (option 2)\n",
    "T = 10      # End time\n",
    "h = 0.01    # Time step size\n",
    "t = np.arange(0, T+h, h)\n",
    "N = len(t)-1\n",
    "print('N = T*h = ', N)\n",
    "print('t = ', t)"
   ]
  },
  {
   "cell_type": "markdown",
   "id": "white-seven",
   "metadata": {},
   "source": [
    "## Set up the solution vector y\n",
    "\n",
    "<code>y</code> will store the numerical solution at each time point, with the initial condition as its first entry. \n",
    "\n",
    "While Python/numpy allows you to start with an empty array and append entries to it, it is good practice to pre-allocate <code>y</code> to be filled with zeros. It will be the same size as <code>t</code>, with $N+1$ entries"
   ]
  },
  {
   "cell_type": "code",
   "execution_count": null,
   "id": "another-remark",
   "metadata": {},
   "outputs": [],
   "source": [
    "# Define the initial condition\n",
    "y0 = 1\n",
    "\n",
    "# Initialize y as an array os N+1 zeros\n",
    "y = np.zeros(N+1)\n",
    "\n",
    "# Set the first entry in y to be the initial condition\n",
    "y[0] = y0"
   ]
  },
  {
   "cell_type": "markdown",
   "id": "burning-australian",
   "metadata": {},
   "source": [
    "## Time step loop\n",
    "\n",
    "Now let's loop on the time steps and do the forward Euler algorithm\n",
    "\n"
   ]
  },
  {
   "cell_type": "code",
   "execution_count": null,
   "id": "parental-residence",
   "metadata": {},
   "outputs": [],
   "source": [
    "# Time step loop\n",
    "# Using 'range' like this will set n = 0, 1, 2, ..., N-1\n",
    "# This ensures that in the last step, y[N] is computed, which is the desired result\n",
    "for n in range(N):\n",
    "    y[n+1] = y[n] + h*f(y[n], t[n])\n",
    "    "
   ]
  },
  {
   "cell_type": "markdown",
   "id": "behavioral-hostel",
   "metadata": {},
   "source": [
    "## Plot the result\n",
    "\n",
    "Now we'll plot the result. We want to plot <code>y</code>, the which represents the solution at each time $t_n$ for $n = 0, 1, 2, ... N$, versus the variable storing the $t_n$ values, <code>t</code>"
   ]
  },
  {
   "cell_type": "code",
   "execution_count": null,
   "id": "humanitarian-printer",
   "metadata": {
    "scrolled": false
   },
   "outputs": [],
   "source": [
    "# Plotting\n",
    "plt.plot(t, y)\n",
    "plt.grid()\n",
    "plt.xlabel('t')\n",
    "plt.ylabel('y')\n",
    "plt.title(r'$y(t)$ numerical solution')\n",
    "plt.show()"
   ]
  },
  {
   "cell_type": "markdown",
   "id": "c3765e93",
   "metadata": {},
   "source": [
    "## Solution convergence\n",
    "\n",
    "We generally want to pick a time step that is small enough to give an accurate solution result but big enough to not incur unecessary cost.\n",
    "\n",
    "Often, we cannot know the optimal step size $h$ in advance. A typical approach is to try several values of $h$ to verify that the solution has converged, or stopped notably changing, with further decreases in $h$.\n",
    "\n",
    "This is most readily accomplished by using a function to complete perform the time integration for a given step size, then calling that function several times to produce the solution. This allows easy plotting of several solutions for direct comparison.\n",
    "\n",
    "Below, the forward Euler code is refactored into a function, and results using different step sizes are plotted. What appears to be a good choice of step size $h$?"
   ]
  },
  {
   "cell_type": "code",
   "execution_count": null,
   "id": "5eb76983",
   "metadata": {},
   "outputs": [],
   "source": [
    "def fwd_euler_scalar_example(h):\n",
    "\n",
    "    # ODE right hand side\n",
    "    f = lambda y, t: np.cos(t**2)*np.sqrt(y)\n",
    "\n",
    "    # Time discretization setup\n",
    "    T = 10\n",
    "    t = np.arange(0, T+h, h)\n",
    "    N = len(t)-1\n",
    "\n",
    "    # Initialize condition\n",
    "    y0 = 1\n",
    "    y = np.zeros(N+1)\n",
    "    y[0] = y0\n",
    "\n",
    "    for n in range(N):\n",
    "        y[n+1] = y[n] + h*f(y[n], t[n])\n",
    "\n",
    "    return y, t\n",
    "\n",
    "\n",
    "# Plot solution for several values of h\n",
    "hvals = [0.1, 0.05, 0.02, 0.01]\n",
    "plt.figure(figsize=(8,6))\n",
    "for h in hvals:\n",
    "    y, t = fwd_euler_scalar_example(h)\n",
    "    plt.plot(t, y, label=f'h = {h}')\n",
    "plt.grid()\n",
    "plt.legend()\n",
    "plt.xlabel('t')\n",
    "plt.ylabel('y')\n",
    "plt.title('Solutions for several h values')\n",
    "plt.show()"
   ]
  },
  {
   "cell_type": "markdown",
   "id": "intermediate-tension",
   "metadata": {},
   "source": [
    "# Example 2: system of equations\n",
    "\n",
    "Let's solve the following system of $m = 3$ equations\n",
    "\n",
    "$$\\mathbf{y} = (y_1, y_2, y_3)$$\n",
    "\n",
    "$$y'_1 = y_1 + y_2 + t$$\n",
    "\n",
    "$$y'_2 = \\dfrac{-y_3^2}{1+t}$$\n",
    "\n",
    "$$y'_3 = -y_1$$\n",
    "\n",
    "with initial condition $\\mathbf{y_0} = (1, -1, 0.5)$\n",
    "\n",
    "Note that we could also write this more succinctly as\n",
    "\n",
    "$$\\mathbf{y}' = \\mathbf{f}(\\mathbf{y}, t) = \\left[\\array{y_1 + y_2 + t \\\\ \\dfrac{-y_3^2}{1+t} \\\\ -y_1}\\right]$$"
   ]
  },
  {
   "cell_type": "code",
   "execution_count": null,
   "id": "potential-leisure",
   "metadata": {},
   "outputs": [],
   "source": [
    "# This lambda function represents a vector equation with the vector RHS f(y,t)\n",
    "f = lambda y, t: np.array([y[0] + y[1] + t, -y[2]**2/(1+t), -y[0]])\n",
    "\n",
    "# Test out f: f([0, 1, 2], 1) = [2, -2, 0]\n",
    "ytest = np.array([0, 1, 2])\n",
    "ttest = 1\n",
    "print(f(ytest, ttest))"
   ]
  },
  {
   "cell_type": "markdown",
   "id": "blond-elizabeth",
   "metadata": {},
   "source": [
    "## Forward Euler\n",
    "\n",
    "Below we implement forward Euler. This time, the solution variable <code>y</code> will be a <b>2D numpy array</b> of dimension $3\\times (N+1)$.\n",
    "* Each row in <code>y</code> represents one of the solutions $y_i(t)$. For example, <code>y[0,:]</code> represents $y_1(t)$, and is a 1D numpy array with $N+1$ entries\n",
    "* Each column in <code>y</code> represents all three solutions at a particular time. For example, <code>y[:,2]</code> represents $(y_1, y_2, y_3)$ at time $t_2 = 2h$, and is a 1D numpy array with $3$ entries\n",
    "\n",
    "This means the solution vector <code>y</code> has the following form:\n",
    "\n",
    "$$\n",
    "\\begin{bmatrix}\n",
    "y_1(t_0) & y_1(t_1) & y_1(t_2) & \\cdots & y_1(t_N) \\\\\n",
    "y_2(t_0) & y_2(t_1) & y_2(t_2) & \\cdots & y_2(t_N) \\\\\n",
    "y_3(t_0) & y_3(t_1) & y_3(t_2) & \\cdots & y_3(t_N)\n",
    "\\end{bmatrix}\n",
    "$$\n",
    "\n",
    "In the time step loop, we need to update each of $y_1$, $y_2$, and $y_3$. This can be accomplished with one line inside the loop by taking advantage of numpy's ability to vectorize array addition."
   ]
  },
  {
   "cell_type": "code",
   "execution_count": null,
   "id": "material-natural",
   "metadata": {},
   "outputs": [],
   "source": [
    "# Time step setup\n",
    "T = 4\n",
    "N = 40\n",
    "h = T/N\n",
    "t = np.linspace(0, T, N+1)\n",
    "\n",
    "# Define the initial condition\n",
    "y0 = np.array([1, -1, 0.5])\n",
    "\n",
    "# y is 3 rows, N+1 columns\n",
    "# Each column stores the solution (y1, y2, y3) at a particular time\n",
    "y = np.zeros((3,N+1))\n",
    "\n",
    "# Set the initial condition in the solution variable y\n",
    "y[:,0] = y0\n",
    "\n",
    "# Forward Euler loop\n",
    "for n in range(N):\n",
    "    # Update using vectorized array addition\n",
    "    y[:,n+1] = y[:,n] + h*f(y[:,n], t[n])\n"
   ]
  },
  {
   "cell_type": "markdown",
   "id": "homeless-eligibility",
   "metadata": {},
   "source": [
    "## Plotting\n",
    "\n",
    "To plot each solution versus time, we want to plot each of the rows of <code>y</code> against the variable <code>t</code>. Since <code>y</code> contains three rows, we need to call the plotting command <code>plt.plot</code> three times. To make our plot readable, we add a label for each plotting command and add a legend as well."
   ]
  },
  {
   "cell_type": "code",
   "execution_count": null,
   "id": "regulation-reaction",
   "metadata": {},
   "outputs": [],
   "source": [
    "# Plotting\n",
    "plt.plot(t, y[0,:], '.-', label=r'$y_1(t)$')\n",
    "plt.plot(t, y[1,:], '*-',  label=r'$y_2(t)$')\n",
    "plt.plot(t, y[2,:], 'o-', label=r'$y_3(t)$')\n",
    "plt.grid()\n",
    "plt.xlabel('t')\n",
    "plt.ylabel('y')\n",
    "plt.title(r'$y(t)$ numerical solution')\n",
    "plt.legend()\n",
    "plt.show()"
   ]
  }
 ],
 "metadata": {
  "kernelspec": {
   "display_name": "Python 3 (ipykernel)",
   "language": "python",
   "name": "python3"
  },
  "language_info": {
   "codemirror_mode": {
    "name": "ipython",
    "version": 3
   },
   "file_extension": ".py",
   "mimetype": "text/x-python",
   "name": "python",
   "nbconvert_exporter": "python",
   "pygments_lexer": "ipython3",
   "version": "3.11.4"
  }
 },
 "nbformat": 4,
 "nbformat_minor": 5
}
