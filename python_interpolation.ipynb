{
 "cells": [
  {
   "cell_type": "markdown",
   "id": "administrative-governor",
   "metadata": {
    "slideshow": {
     "slide_type": "slide"
    }
   },
   "source": [
    "# Lagrange and cubic spline interpolation with python\n",
    "\n",
    "Documentation for the interpolation libraries is linked below:\n",
    "1. https://docs.scipy.org/doc/scipy/reference/generated/scipy.interpolate.lagrange.html\n",
    "2. https://docs.scipy.org/doc/scipy/reference/generated/scipy.interpolate.CubicSpline.html"
   ]
  },
  {
   "cell_type": "code",
   "execution_count": null,
   "id": "identified-brazil",
   "metadata": {
    "slideshow": {
     "slide_type": "fragment"
    }
   },
   "outputs": [],
   "source": [
    "import numpy as np\n",
    "import matplotlib.pyplot as plt\n",
    "%matplotlib inline"
   ]
  },
  {
   "cell_type": "markdown",
   "id": "personalized-effects",
   "metadata": {
    "slideshow": {
     "slide_type": "slide"
    }
   },
   "source": [
    "## The function to interpolate\n",
    "\n",
    "Let's look at the function from the Moin text:\n",
    "\n",
    "$f(x) = \\dfrac{1}{1+25x^2}$\n",
    "\n",
    "We'll sample on the domain $x\\in [-0.8, 0.8]$ just to make a little different from the text. \n",
    "\n",
    "You can easily modify the code below to make it match up with the text for direct comparison if you wish."
   ]
  },
  {
   "cell_type": "code",
   "execution_count": null,
   "id": "needed-updating",
   "metadata": {
    "slideshow": {
     "slide_type": "fragment"
    }
   },
   "outputs": [],
   "source": [
    "# Create function to represent f(x)\n",
    "f = lambda x: 1/(1 + 25*x**2)\n",
    "\n",
    "# Create data to interpolate on desired interval\n",
    "N = 11\n",
    "xmin = -0.8\n",
    "xmax =  0.8\n",
    "xdata = np.linspace(xmin, xmax, N)\n",
    "ydata = f(xdata)\n",
    "\n",
    "# Define plotting points along the x-axis (for plotting smooth curve)\n",
    "xplot = np.linspace(xmin, xmax, 100)\n",
    "\n",
    "# Plotting\n",
    "plt.figure()\n",
    "plt.plot(xdata, ydata, 'o', label='Data')\n",
    "plt.plot(xplot, f(xplot), label='True')\n",
    "plt.title('Function and discrete sampling points')\n",
    "plt.xlabel('x')\n",
    "plt.ylabel('f(x)')\n",
    "plt.grid()\n",
    "plt.legend()\n",
    "plt.show()"
   ]
  },
  {
   "cell_type": "markdown",
   "id": "alien-seller",
   "metadata": {
    "slideshow": {
     "slide_type": "-"
    }
   },
   "source": [
    "### Lagrange interpolation\n",
    "\n",
    "Now let's do Lagrangian interpolation and plot it. The syntax is <code>scipy.interpolate.lagrange(x, y)</code>, where <code>x</code> is the x-coordinates of the data and <code>y</code> is the y-coordinates of the data."
   ]
  },
  {
   "cell_type": "code",
   "execution_count": null,
   "id": "heated-absence",
   "metadata": {
    "slideshow": {
     "slide_type": "fragment"
    }
   },
   "outputs": [],
   "source": [
    "# Use scipy.interpolate.lagrange\n",
    "from scipy.interpolate import lagrange\n",
    "ylagrange = lagrange(xdata, ydata) \n",
    "\n",
    "# Plotting\n",
    "plt.figure()\n",
    "plt.plot(xdata, ydata, 'o', label='Data')\n",
    "plt.plot(xplot, f(xplot), label='True')\n",
    "plt.plot(xplot, ylagrange(xplot), '--', label='Lagrange')\n",
    "plt.grid()\n",
    "plt.title('Lagrange interpolation')\n",
    "plt.xlabel('x')\n",
    "plt.ylabel('f(x)')\n",
    "plt.legend()\n",
    "plt.show()"
   ]
  },
  {
   "cell_type": "markdown",
   "id": "absent-upgrade",
   "metadata": {
    "slideshow": {
     "slide_type": "slide"
    }
   },
   "source": [
    "## Cubic spline interpolation\n",
    "\n",
    "Now we'll do cubic spline interpolation using <code>CubicSpline</code> from <code>scipy</code>. The syntax is:\n",
    "\n",
    "<code>scipy.interpolate.CubicSpline(x, y, axis=0, bc_type='not-a-knot', extrapolate=None)</code>\n",
    "\n",
    "We'll use the default end conditions, not-a-knot, below. You can consult the docs to learn about how to input the optional argument <code>bc_type</code> to use different types of end conditions."
   ]
  },
  {
   "cell_type": "code",
   "execution_count": null,
   "id": "western-parliament",
   "metadata": {
    "slideshow": {
     "slide_type": "fragment"
    }
   },
   "outputs": [],
   "source": [
    "# Using scipy.interpolate.CubicSpline\n",
    "from scipy.interpolate import CubicSpline\n",
    "yspline = CubicSpline(xdata, ydata)\n",
    "\n",
    "# Plotting\n",
    "plt.figure()\n",
    "plt.plot(xdata, ydata, 'o', label='Data')\n",
    "plt.plot(xplot, f(xplot), label='True')\n",
    "plt.plot(xplot, yspline(xplot), '--', label='Cubic Spline')\n",
    "plt.title('Cubic spline interpolation')\n",
    "plt.xlabel('x')\n",
    "plt.ylabel('f(x)')\n",
    "plt.grid()\n",
    "plt.legend()\n",
    "plt.show()"
   ]
  },
  {
   "cell_type": "markdown",
   "id": "systematic-remainder",
   "metadata": {
    "slideshow": {
     "slide_type": "slide"
    }
   },
   "source": [
    "### Cubic spline boundary conditions\n",
    "\n",
    "Let's say we only wanted to interpolate half of the data. This is reasonable because of the symmetry involved.\n",
    "\n",
    "Below we modify the data to include only the left-half of the data points (including the point on the symmetry line at $x=0$) and used default spline boundary conditions for the interpolation."
   ]
  },
  {
   "cell_type": "code",
   "execution_count": null,
   "id": "b49630cc",
   "metadata": {},
   "outputs": [],
   "source": [
    "# Create data to interpolate on desired interval\n",
    "N = 6\n",
    "xmin = -0.8\n",
    "xmax =  0.0\n",
    "xdata = np.linspace(xmin, xmax, N)\n",
    "ydata = f(xdata)\n",
    "\n",
    "# Spline with default boundary conditions\n",
    "yspline = CubicSpline(xdata, ydata)\n",
    "\n",
    "# Define plotting points along the x-axis (for plotting smooth curve)\n",
    "xplot = np.linspace(xmin, xmax, 100)\n",
    "\n",
    "# Plotting\n",
    "plt.figure()\n",
    "plt.plot(xdata, ydata, 'o', label='Data')\n",
    "plt.plot(xplot, f(xplot), label='True')\n",
    "plt.plot(xplot, yspline(xplot), '--', label='Cubic spline')\n",
    "plt.title('Cubic spline interpolation (left-half of data)')\n",
    "plt.xlabel('x')\n",
    "plt.ylabel('f(x)')\n",
    "plt.grid()\n",
    "plt.legend()\n",
    "plt.show()"
   ]
  },
  {
   "cell_type": "markdown",
   "id": "6a919522",
   "metadata": {},
   "source": [
    "Note how the spline no longer matches the \"true\" curve at the right end.\n",
    "\n",
    "The original data had a zero derivative at the point $x=0$. Since we know this, we might wish to impose this condition using the spline.\n",
    "\n",
    "This can be done with the syntax <code>CubicSpline(x, y, bc_type=('not-a-knot', (1, 0.0)))</code>. In this case the <code>bc_type</code> parameter accepts a tuple <code>(left_bc, right_bc)</code> where:\n",
    "* <code>'not-a-knot'</code> specifies the not-a-knot condition for the left boundary\n",
    "* <code>(1, 0.0)</code> specifies a clamped condition with derivative = 0 at the right boundary\n",
    "\n",
    "The tuple <code>(1, 0.0)</code> means:\n",
    "* <code>1</code> indicates you're specifying the <b>first</b> derivative\n",
    "* <code>0.0</code> is the value of that derivative at the boundary\n",
    "\n",
    "The code below implements the zero-derivative spline boundary condition at the right end."
   ]
  },
  {
   "cell_type": "code",
   "execution_count": null,
   "id": "b8deb40c",
   "metadata": {},
   "outputs": [],
   "source": [
    "# Spline with the right end derivative specified (clamped conditions)\n",
    "yspline_clamp_right_end = CubicSpline(xdata, ydata, bc_type=('not-a-knot', (1, 0.0)))\n",
    "\n",
    "# Define plotting points along the x-axis\n",
    "xplot = np.linspace(xmin, xmax, 100)\n",
    "\n",
    "# Plotting code\n",
    "plt.figure()\n",
    "plt.plot(xdata, ydata, 'o', label='Data')\n",
    "plt.plot(xplot, f(xplot), label='True')\n",
    "plt.plot(xplot, yspline_clamp_right_end(xplot), '--', label='Cubic spline (clamped at right end)')\n",
    "plt.title('Cubic spline interpolation, clamped at right end (left-half of data)')\n",
    "plt.xlabel('x')\n",
    "plt.ylabel('f(x)')\n",
    "plt.grid()\n",
    "plt.legend()\n",
    "plt.show()"
   ]
  }
 ],
 "metadata": {
  "kernelspec": {
   "display_name": "base",
   "language": "python",
   "name": "python3"
  },
  "language_info": {
   "codemirror_mode": {
    "name": "ipython",
    "version": 3
   },
   "file_extension": ".py",
   "mimetype": "text/x-python",
   "name": "python",
   "nbconvert_exporter": "python",
   "pygments_lexer": "ipython3",
   "version": "3.11.4"
  }
 },
 "nbformat": 4,
 "nbformat_minor": 5
}
