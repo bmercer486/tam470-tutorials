{
 "cells": [
  {
   "cell_type": "markdown",
   "id": "featured-burden",
   "metadata": {},
   "source": [
    "# A Simple FEA code\n",
    "\n",
    "This solves $u''(x) + \\alpha x = 0$ for $x \\in [0,1]$, with boundary conditions $u(0) = u_0$ and $u(1) = u_N$."
   ]
  },
  {
   "cell_type": "markdown",
   "id": "operational-thermal",
   "metadata": {},
   "source": [
    "First we're going to do some basic setup by importing useful libraries.\n",
    "\n",
    "Then we'll define the parameter $\\alpha$, which should be a positive real number, the function $f(x) = \\alpha x$, and the boundary conditions.\n",
    "\n",
    "Finally we'll defing mesh settings by setting variables <code>numnp</code> (number of nodes), <code>numel</code> (number of elements), and we'll create the array of grid points as a uniform distribution on $[0, 1]$."
   ]
  },
  {
   "cell_type": "code",
   "execution_count": null,
   "id": "quiet-search",
   "metadata": {},
   "outputs": [],
   "source": [
    "# Import libraries\n",
    "import numpy as np                  # General calculations\n",
    "import scipy.integrate as integrate # Numerical integration\n",
    "import matplotlib.pyplot as plt     # Plotting\n",
    "\n",
    "# f(x) from the ODE\n",
    "alpha = 10\n",
    "f = lambda x: alpha*x\n",
    "\n",
    "# Boundary conditions\n",
    "u0 = 0\n",
    "uN = 1\n",
    "\n",
    "# Global mesh data\n",
    "numel = 4         # Number of elements\n",
    "numnp = numel + 1  # Number of nodes\n",
    "nen = 2            # Number of nodes per element\n",
    "\n",
    "# Create the grid (nodal points)\n",
    "xmin = 0\n",
    "xmax = 1\n",
    "x = np.linspace(xmin, xmax, numnp)\n",
    "\n",
    "# Let's print x to show the grid points\n",
    "print('x = ',x)"
   ]
  },
  {
   "cell_type": "markdown",
   "id": "transsexual-fantasy",
   "metadata": {},
   "source": [
    "## Build LM array\n",
    "\n",
    "Next we'll create the LM array which gives the global node number for each of the local element node numbers. Node numbering starts at 0 for ease of use with python indexing."
   ]
  },
  {
   "cell_type": "code",
   "execution_count": null,
   "id": "married-niagara",
   "metadata": {},
   "outputs": [],
   "source": [
    "# Initialize LM to the correct size\n",
    "LM = np.zeros((nen, numel), dtype=int)\n",
    "\n",
    "# Loop on elements\n",
    "for e in range(numel):\n",
    "    LM[0][e] = e\n",
    "    LM[1][e] = e+1\n",
    "    \n",
    "# Let's print LM and make sure it looks right\n",
    "print('LM = \\n', LM)"
   ]
  },
  {
   "cell_type": "markdown",
   "id": "about-ethiopia",
   "metadata": {},
   "source": [
    "## Assemble global stiffness and force vectors.\n",
    "\n",
    "In the assembly phase, we initialize global stiffness $K$ and global force $F$ to the correct sizes, then we loop on elements and assemble element arrays into the global arrays.\n",
    "\n",
    "This code uses linear basis functions. For 1D problems, we use the analytical result for the element stiffness matrix discussed in class.\n",
    "\n",
    "The force vectors are computed using scipy's numerical integration feature, but they are pretty simple polynomials that could have been coded by hand; in real FEA codes, Gauss quadrature is typically used for any integration needed for element stiffness and force vectors"
   ]
  },
  {
   "cell_type": "code",
   "execution_count": null,
   "id": "latest-cologne",
   "metadata": {
    "scrolled": true
   },
   "outputs": [],
   "source": [
    "# Assembly\n",
    "K = np.zeros((numnp, numnp))\n",
    "F = np.zeros(numnp)\n",
    "for e in range(0,numel):\n",
    "    \n",
    "    # Get global node numbers for this element\n",
    "    i1 = LM[0, e]\n",
    "    i2 = LM[1, e]\n",
    "    \n",
    "    # Local nodal coordinates\n",
    "    x1 = x[i1] # Coord for element local node 1\n",
    "    x2 = x[i2] # Coord for element local node 2\n",
    "    \n",
    "    # Element length\n",
    "    dxe = x2 - x1\n",
    "    \n",
    "    # Element stiffness\n",
    "    ke = np.array([[1, -1],[-1, 1]])*(1/dxe)\n",
    "    \n",
    "    # Element shape functions\n",
    "    N1 = lambda x: -(x - x2)/dxe\n",
    "    N2 = lambda x:  (x - x1)/dxe\n",
    "    \n",
    "    # Element force vector\n",
    "    fe = np.zeros(nen)\n",
    "    fe[0] = integrate.quad(lambda x: N1(x)*f(x), x1, x2)[0]\n",
    "    fe[1] = integrate.quad(lambda x: N2(x)*f(x), x1, x2)[0]\n",
    "    \n",
    "    # Assembly loop\n",
    "    for i in range(nen):\n",
    "        I = LM[i, e]\n",
    "        F[I] += fe[i]\n",
    "        for j in range(nen):\n",
    "            J = LM[j, e]\n",
    "            K[I,J] += ke[i,j]\n",
    "    \n",
    "# Check global arrays\n",
    "print(\"Global stiffness and force:\")\n",
    "print(\"K = \\n\",K)\n",
    "print(\"F = \\n\",F)"
   ]
  },
  {
   "cell_type": "markdown",
   "id": "norwegian-technique",
   "metadata": {},
   "source": [
    "## Apply boundary conditions, solve system\n",
    "\n",
    "Now we apply boundary conditions by modifying rows and columns in the stiffness matrix and force vector. \n",
    "\n",
    "The code below simply enforces the boundary conditions by modifying the coefficients matrix and right-hand side vector to include the equations $u(0) = u_0$ (first row) and $u(1) = u_N$ (last row). It is the simplest way to do things, and leads to an unsymmetric coefficients matrix. A better way would be to \"move\" known values to the right hand side, which keeps symmetry and does the solve with a smaller stiffness matrix, but this is a little more complex to set up and implement."
   ]
  },
  {
   "cell_type": "code",
   "execution_count": null,
   "id": "crucial-ethics",
   "metadata": {},
   "outputs": [],
   "source": [
    "# Modify first equation\n",
    "K[0, :] = 0      # Set this row to all zeros\n",
    "K[0, 0] = 1      # Set diagonal entry equal to 1\n",
    "F[0]    = u0     # Set RHS value\n",
    "\n",
    "# Modify last equation\n",
    "K[-1, :] = 0     # Set this row to all zeros\n",
    "K[-1, -1] = 1    # Set diagonal enetry equal to 1\n",
    "F[-1] = uN       # Set RHS value\n",
    "\n",
    "# Check the results\n",
    "print(\"Modified stiffness and force:\")\n",
    "print(\"K = \\n\",K)\n",
    "print(\"F = \\n\",F)\n",
    "\n",
    "# Solve the system\n",
    "u = np.linalg.solve(K, F)\n",
    "print('u = \\n',u)"
   ]
  },
  {
   "cell_type": "markdown",
   "id": "31d9efbf",
   "metadata": {},
   "source": [
    "## Plot solutions\n",
    "\n",
    "Once the FEA solve is complete, we can plot the FEA solution. We compare to the exact solution to check out how it compares.\n",
    "\n",
    "We can also compute the derivative of the FEA solution. Since the FEA solution is piecewise linear, the derivative is constant between grid points and is \n",
    "\n",
    "$\\dfrac{du^e_h}{dx} = \\dfrac{u_2^e - u_1^e}{x_2^e - x_1^e} = \\text{constant}$ \n",
    "\n",
    "over each element. \n",
    "\n",
    "These derivative values are are calculated and added to the plot in a loop over elements."
   ]
  },
  {
   "cell_type": "code",
   "execution_count": null,
   "id": "95492cb9",
   "metadata": {},
   "outputs": [],
   "source": [
    "# Exact solution\n",
    "xfine = np.linspace(xmin,xmax,101)\n",
    "ue = xfine +(alpha/6)*xfine*(1-xfine**2)\n",
    "\n",
    "# Exact solution derivative\n",
    "due = 1 + (alpha/6)*(1-xfine**2) - 2*xfine*xfine*(alpha/6)\n",
    "\n",
    "# Plot the FEA and exact solutions\n",
    "plt.figure()\n",
    "plt.plot(xfine, ue, label='exact')\n",
    "plt.plot(x,u,'o--', label='FEA')\n",
    "plt.title('FEA vs exact solution, Number of elements = %d' %numel)\n",
    "plt.xlabel('x')\n",
    "plt.ylabel('u')\n",
    "plt.legend(['Exact','FEA'])\n",
    "plt.grid()\n",
    "\n",
    "# Plot the FEA and exact solutions *derivatives*\n",
    "plt.figure()\n",
    "plt.plot(xfine, due)\n",
    "for e in range(numel):\n",
    "    # Global element nodes\n",
    "    i1 = LM[0 ,e]\n",
    "    i2 = LM[1, e]\n",
    "    \n",
    "    # Element coordinates\n",
    "    x1 = x[i1]\n",
    "    x2 = x[i2]\n",
    "    \n",
    "    # Element displacements\n",
    "    u1 = u[i1]\n",
    "    u2 = u[i2]\n",
    "    \n",
    "    # Element derivative: constant when using linear basis functions\n",
    "    du_fea = (u2 - u1)/(x2 - x1)\n",
    "    \n",
    "    # Add to the plot\n",
    "    plt.plot([x1, x2], [du_fea, du_fea], 'bo--')\n",
    "    \n",
    "# Plot formatting\n",
    "plt.title('FEA vs exact solution *derivative*, Number of elements = %d' %numel)\n",
    "plt.xlabel('x')\n",
    "plt.ylabel('u')\n",
    "plt.legend(['Exact','FEA'])\n",
    "plt.grid()"
   ]
  }
 ],
 "metadata": {
  "kernelspec": {
   "display_name": "Python 3 (ipykernel)",
   "language": "python",
   "name": "python3"
  },
  "language_info": {
   "codemirror_mode": {
    "name": "ipython",
    "version": 3
   },
   "file_extension": ".py",
   "mimetype": "text/x-python",
   "name": "python",
   "nbconvert_exporter": "python",
   "pygments_lexer": "ipython3",
   "version": "3.11.4"
  }
 },
 "nbformat": 4,
 "nbformat_minor": 5
}
