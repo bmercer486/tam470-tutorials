{
 "cells": [
  {
   "cell_type": "markdown",
   "id": "piano-juice",
   "metadata": {},
   "source": [
    "# Setup and libraries"
   ]
  },
  {
   "cell_type": "code",
   "execution_count": null,
   "id": "healthy-prototype",
   "metadata": {},
   "outputs": [],
   "source": [
    "# Import libraries\n",
    "import numpy as np\n",
    "from scipy import integrate\n",
    "import matplotlib.pyplot as plt"
   ]
  },
  {
   "cell_type": "markdown",
   "id": "9a36b21c",
   "metadata": {},
   "source": [
    "# The Integral\n",
    "\n",
    "We're interested in computing \n",
    "\n",
    "\\begin{equation}\n",
    "I = \\int_0^\\pi \\sin{x}\\ dx\n",
    "\\end{equation}\n",
    "\n",
    "The exact answer is $I = 2$."
   ]
  },
  {
   "cell_type": "code",
   "execution_count": null,
   "id": "4af05609",
   "metadata": {},
   "outputs": [],
   "source": [
    "# Function and bounds\n",
    "f = lambda x: np.sin(x)\n",
    "a = 0\n",
    "b = np.pi\n",
    "Iexact = 2"
   ]
  },
  {
   "cell_type": "markdown",
   "id": "mobile-russell",
   "metadata": {},
   "source": [
    "## Trapezoid and Simpson rules\n",
    "\n",
    "Before checking out the more advanced integration options available in Scipy, let's calculate the integral with the Trapezoid and Simpson rules as a reference"
   ]
  },
  {
   "cell_type": "code",
   "execution_count": null,
   "id": "close-morocco",
   "metadata": {},
   "outputs": [],
   "source": [
    "# Grid for integration\n",
    "N = 20 # Number of panels \n",
    "x = np.linspace(a, b, N+1)\n",
    "\n",
    "# Trapezoid, Simpson, and Exact results\n",
    "Itrap = integrate.trapezoid(f(x), x)\n",
    "Isimp = integrate.simpson(f(x), x=x)\n",
    "Iexact = 2\n",
    "\n",
    "# Plot the function\n",
    "plt.figure()\n",
    "plt.plot(x, f(x), 'o-')\n",
    "plt.title('Function to integrate, f(x) = sin(x), with sampling points')\n",
    "plt.xlabel('x')\n",
    "plt.ylabel('f(x)')\n",
    "plt.grid()\n",
    "\n",
    "# Print the results\n",
    "print(f'Itrap (N = {N} pantls) = {Itrap:.12f}')\n",
    "print(f'Isimp (N = {N} panels) = {Isimp:.12f}')\n",
    "print(f'Iexact                = {Iexact:.12f}')"
   ]
  },
  {
   "cell_type": "markdown",
   "id": "established-humor",
   "metadata": {},
   "source": [
    "## Romberg integration\n",
    "\n",
    "Next we'll compute the integral using Romberg integration from scipy. Link to docs below:\n",
    "\n",
    "https://docs.scipy.org/doc/scipy/reference/generated/scipy.integrate.romb.html\n",
    "\n",
    "In scipy, Romberg integration requires you to set up <code>2**k+1</code> equally-spaced sampling points. You then provide the function values and grid spacing. <code>show=True</code> shows all the intermediate results from repeated Richardson extrapolation. The bottom right number in the table is the final result.\n",
    "\n",
    "Modify the code below to cycle through k = 1, 2, 3, ... -- How many points are required to improve on the trapezoidal and Simpson rule calculations from the previous cell?"
   ]
  },
  {
   "cell_type": "code",
   "execution_count": null,
   "id": "supreme-consent",
   "metadata": {
    "scrolled": true
   },
   "outputs": [],
   "source": [
    "k = 1\n",
    "x = np.linspace(a, b, 2**k+1)\n",
    "dx = x[1] - x[0]\n",
    "Iromb = integrate.romb(f(x), dx, show=True)\n",
    "print(f'Itrap (N = {N} panels)               = {Itrap:.12f}')\n",
    "print(f'Isimp (N = {N} panels)               = {Isimp:.12f}')\n",
    "print(f'Iromb (N = {2**k+1:2d} sampling points)      = {Iromb:.12f}')"
   ]
  },
  {
   "cell_type": "markdown",
   "id": "dressed-clearing",
   "metadata": {},
   "source": [
    "## Adaptive quadrature with scipy\n",
    "\n",
    "<code>scipy.integrate.quad</code> can be used for adaptive quadrature. <b>This is a good default integration option to use for any numerical integration needs</b>.\n",
    "\n",
    "https://docs.scipy.org/doc/scipy/reference/generated/scipy.integrate.quad.html\n",
    "\n",
    "The base method is based on a special numerical integration technique called Gauss-Konrod quadrature: https://en.wikipedia.org/wiki/Gauss%E2%80%93Kronrod_quadrature_formula\n",
    "* The base method is a highly accurate (more so than e.g. Simpson's method). \n",
    "* It uses 21 specially chosen sampling points within 1 integration panel\n",
    "\n",
    "When using this adaptive quadrature routine on our integral here, you'll see the resulting integral accuracy is essentially machine precision (i.e. the best possible for a numerical method). \n",
    "\n",
    "Also note that only one integration panel involving 21 function evaluation points is needed to achieve the result."
   ]
  },
  {
   "cell_type": "code",
   "execution_count": null,
   "id": "informational-harvey",
   "metadata": {},
   "outputs": [],
   "source": [
    "Iadapt, err_est_adapt, infodata = integrate.quad(f, a, b, full_output=1)\n",
    "print(f'Iadapt         = {Iadapt:.16f}')\n",
    "print(f'Error estimate = {err_est_adapt:.16f}')\n",
    "print(f'Actual error   = {abs(Iadapt-Iexact):.16f}')\n",
    "print(f'Function evaluations used = {infodata[\"neval\"]}')"
   ]
  }
 ],
 "metadata": {
  "kernelspec": {
   "display_name": "base",
   "language": "python",
   "name": "python3"
  },
  "language_info": {
   "codemirror_mode": {
    "name": "ipython",
    "version": 3
   },
   "file_extension": ".py",
   "mimetype": "text/x-python",
   "name": "python",
   "nbconvert_exporter": "python",
   "pygments_lexer": "ipython3",
   "version": "3.11.4"
  }
 },
 "nbformat": 4,
 "nbformat_minor": 5
}
