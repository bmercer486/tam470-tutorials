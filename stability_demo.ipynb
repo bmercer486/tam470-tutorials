{
 "cells": [
  {
   "cell_type": "markdown",
   "id": "continuing-teaching",
   "metadata": {},
   "source": [
    "# Load the usual numpy and plotting libraries and settings\n"
   ]
  },
  {
   "cell_type": "code",
   "execution_count": null,
   "id": "increased-chrome",
   "metadata": {},
   "outputs": [],
   "source": [
    "# Import libraries\n",
    "import numpy as np\n",
    "import matplotlib.pyplot as plt"
   ]
  },
  {
   "cell_type": "markdown",
   "id": "informational-trust",
   "metadata": {},
   "source": [
    "# Stability of Forward Euler\n",
    "\n",
    "Consider the ODE:\n",
    "\n",
    "$$y'(t) = -\\frac{1}{2}y$$\n",
    "\n",
    "with initial condition $y_0 = y(0) = 1$.\n",
    "\n",
    "The exact solution is \n",
    "\n",
    "$$y(t) = e^{-\\frac{1}{2}t}$$\n",
    "\n",
    "For the ODE $y' = \\lambda y$ and $\\lambda$ being real-valued, the condition for numerical stability is\n",
    "\n",
    "$$h \\le \\frac{2}{|\\lambda|}$$\n",
    "\n",
    "The code below uses forward Euler to solve the ODE. Try different time step values $h$ to see how stability is affected."
   ]
  },
  {
   "cell_type": "code",
   "execution_count": null,
   "id": "minute-soviet",
   "metadata": {},
   "outputs": [],
   "source": [
    "# f(y)\n",
    "f = lambda y: -0.5*y\n",
    "\n",
    "# Initial condition \n",
    "y0 = 1\n",
    "\n",
    "# Time step size\n",
    "h = 2\n",
    "\n",
    "# Time step setup\n",
    "tf = 20 # End time (approx)\n",
    "N = round(tf/h) # Number of time steps\n",
    "t = np.linspace(0, tf, N+1) # Time points t0, t1, ..., tN (N+1 points)\n",
    "\n",
    "# Create placeholders for y values\n",
    "y = np.zeros(len(t))\n",
    "\n",
    "# Apply initial condition\n",
    "y[0] = y0\n",
    "\n",
    "# Loop on time steps to implement forward Euler\n",
    "for n in range(N):\n",
    "    y[n+1] = y[n] + h*f(y[n])\n",
    "\n",
    "# Exact solution\n",
    "tfine = np.linspace(0, tf, 1000)\n",
    "yexact = y0*np.exp(-0.5*tfine)\n",
    "\n",
    "# Plot the results\n",
    "plt.figure()\n",
    "plt.plot(tfine, yexact, label=r'$y_{exact}$')\n",
    "plt.plot(t, y, '*--', label='Numerical')\n",
    "plt.title('Solution, h = ' + str(h))\n",
    "plt.xlabel('t')\n",
    "plt.ylabel('y')\n",
    "plt.grid()\n",
    "plt.legend()\n",
    "plt.show()"
   ]
  },
  {
   "cell_type": "markdown",
   "id": "1e3359d5",
   "metadata": {},
   "source": [
    "# Stability of Backward Euler\n",
    "\n",
    "The code below uses backward Euler to solve the same ODE. \n",
    "\n",
    "Backward Euler is known to be unconditionally stable; it will not blow up no matter the choice of time step $h$.\n",
    "\n",
    "The backward Euler update for this linear ODE is $y_{n+1} = y_n +\\lambda hy_{n+1}$ which implies $y_{n+1} = \\dfrac{y_n}{1-\\lambda h}$. \n",
    "\n",
    "$\\lambda = -0.5$ for this problem.\n",
    "\n",
    "Try different time step values $h$ and note that while large $h$ is not particularly accurate, it is always stable."
   ]
  },
  {
   "cell_type": "code",
   "execution_count": null,
   "id": "8605ffe8",
   "metadata": {},
   "outputs": [],
   "source": [
    "# f(y)\n",
    "lam = -0.5 # Can't call it lambda as this is reserved for lambda functions in python\n",
    "\n",
    "# Initial condition \n",
    "y0 = 1\n",
    "\n",
    "# Time step size\n",
    "h = 2\n",
    "\n",
    "# Time step setup\n",
    "tf = 20 # End time (approx)\n",
    "N = round(tf/h) # Number of time steps\n",
    "t = np.linspace(0, tf, N+1) # Time points t0, t1, ..., tN (N+1 points)\n",
    "\n",
    "# Create placeholders for y values\n",
    "y = np.zeros(len(t))\n",
    "\n",
    "# Apply initial condition\n",
    "y[0] = y0\n",
    "\n",
    "# Loop on time steps to implement backward Euler\n",
    "for n in range(N):\n",
    "    y[n+1] = y[n]/(1 - h*lam)\n",
    "\n",
    "# Exact solution\n",
    "tfine = np.linspace(0, tf, 1000)\n",
    "yexact = y0*np.exp(-0.5*tfine)\n",
    "\n",
    "# Plot the results\n",
    "plt.figure()\n",
    "plt.plot(tfine, yexact, label=r'$y_{exact}$')\n",
    "plt.plot(t, y, '*--', label='Numerical')\n",
    "plt.title('Solution, h = ' + str(h))\n",
    "plt.xlabel('t')\n",
    "plt.ylabel('y')\n",
    "plt.grid()\n",
    "plt.legend()\n",
    "plt.show()"
   ]
  }
 ],
 "metadata": {
  "kernelspec": {
   "display_name": "Python 3 (ipykernel)",
   "language": "python",
   "name": "python3"
  },
  "language_info": {
   "codemirror_mode": {
    "name": "ipython",
    "version": 3
   },
   "file_extension": ".py",
   "mimetype": "text/x-python",
   "name": "python",
   "nbconvert_exporter": "python",
   "pygments_lexer": "ipython3",
   "version": "3.11.4"
  }
 },
 "nbformat": 4,
 "nbformat_minor": 5
}
